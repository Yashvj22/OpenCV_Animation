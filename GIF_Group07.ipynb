{
 "cells": [
  {
   "cell_type": "markdown",
   "id": "1f0af396",
   "metadata": {},
   "source": [
    "---\n",
    "##                          Importing Libraries\n",
    "\n",
    "---\n",
    "<br>"
   ]
  },
  {
   "cell_type": "code",
   "execution_count": 1,
   "id": "12023a8c",
   "metadata": {},
   "outputs": [],
   "source": [
    "import cv2\n",
    "import numpy as np\n",
    "import os"
   ]
  },
  {
   "cell_type": "markdown",
   "id": "bc625d14",
   "metadata": {},
   "source": [
    "---\n",
    "##                          Creating functions\n",
    "\n",
    "\n",
    "---\n",
    "<br>"
   ]
  },
  {
   "cell_type": "code",
   "execution_count": 2,
   "id": "81727739",
   "metadata": {},
   "outputs": [],
   "source": [
    "x1,y1=-1,-1\n",
    "def mousetracking(event,x,y,flags,param):\n",
    "    global x1,y1\n",
    "\n",
    "    if event==1:\n",
    "        x1=x\n",
    "        y1=y\n",
    "    elif event==4:\n",
    "        cv2.line(white_img,(x1,y1),(x,y),(0),3) #line\n",
    "    elif event==10:\n",
    "        cv2.circle(white_img,(x,y),40,(0),2) #sky\n",
    "    elif event==2:\n",
    "        cv2.putText(white_img,'PROGRAMMING',(182,109),cv2.FONT_HERSHEY_PLAIN,2,(0,0,255),2)\n"
   ]
  },
  {
   "cell_type": "markdown",
   "id": "3e55b56d",
   "metadata": {},
   "source": [
    "---\n",
    "## Creating a video\n",
    "\n",
    "---\n",
    "<br>"
   ]
  },
  {
   "cell_type": "code",
   "execution_count": null,
   "id": "65f950da",
   "metadata": {},
   "outputs": [],
   "source": [
    "img = cv2.imread(r\"E:\\Innomatics\\machine learning\\Task\\taskani\\Untitled Folder\\frames\\56.jpg\")\n",
    "\n",
    "cv2.namedWindow(\"Animation\",flags= cv2.WINDOW_FULLSCREEN)\n",
    "\n",
    "cv2.setMouseCallback(\"Animation\",mouse_tracking)\n",
    "c = 61   # This is changed acccording to frames\n",
    "\n",
    "while True:\n",
    "    cv2.imshow(\"Animation\",img)\n",
    "\n",
    "    if cv2.waitKey(1) & 255 == ord(\"s\"):\n",
    "        cv2.imwrite(r\"E:\\Innomatics\\machine learning\\Task\\taskani\\Untitled Folder\\frames\\{}.jpg\".format(c),img)\n",
    "\n",
    "        print(\"{} Image saved\".format(c))\n",
    "        c = c+1\n",
    "\n",
    "    if cv2.waitKey(1) & 255 == ord(\"q\"):\n",
    "        break\n",
    "\n",
    "cv2.destroyAllWindows()"
   ]
  },
  {
   "cell_type": "markdown",
   "id": "50efed15",
   "metadata": {},
   "source": [
    "---\n",
    "##                          Playing a video\n",
    "\n",
    "---\n",
    "<br>"
   ]
  },
  {
   "cell_type": "code",
   "execution_count": null,
   "id": "14c73058",
   "metadata": {},
   "outputs": [],
   "source": [
    "while True:\n",
    "    for i in os.listdir(r\"E:\\Innomatics\\machine learning\\Task\\taskani\\gif\\fial\"):\n",
    "        img=cv2.imread(r\"E:\\Innomatics\\machine learning\\Task\\taskani\\gif\\fial\\{}\".format(i))\n",
    "        cv2.imshow('gif',img)\n",
    "        if cv2.waitKey(100) & 255 == ord('q'):\n",
    "            pass\n",
    "    if cv2.waitKey(100) & 255 == ord('q'):\n",
    "        break\n",
    "        \n",
    "cv2.destroyAllWindows()"
   ]
  },
  {
   "cell_type": "markdown",
   "id": "a32c50cd",
   "metadata": {},
   "source": [
    "---\n",
    "##                          The End\n",
    "\n",
    "\n",
    "---\n",
    "<br>"
   ]
  }
 ],
 "metadata": {
  "kernelspec": {
   "display_name": "Python 3 (ipykernel)",
   "language": "python",
   "name": "python3"
  },
  "language_info": {
   "codemirror_mode": {
    "name": "ipython",
    "version": 3
   },
   "file_extension": ".py",
   "mimetype": "text/x-python",
   "name": "python",
   "nbconvert_exporter": "python",
   "pygments_lexer": "ipython3",
   "version": "3.11.5"
  }
 },
 "nbformat": 4,
 "nbformat_minor": 5
}
